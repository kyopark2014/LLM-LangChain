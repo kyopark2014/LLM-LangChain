{
 "cells": [
  {
   "cell_type": "markdown",
   "id": "50c0b81d",
   "metadata": {},
   "source": [
    "# PDF Summary"
   ]
  },
  {
   "cell_type": "code",
   "execution_count": 1,
   "id": "7fc37fca",
   "metadata": {},
   "outputs": [],
   "source": [
    "#!pip install --upgrade sagemaker --quiet\n",
    "!pip install langchain==0.0.148 --quiet\n",
    "#!pip install faiss-cpu --quiet"
   ]
  },
  {
   "cell_type": "code",
   "execution_count": 2,
   "id": "458b586a",
   "metadata": {},
   "outputs": [],
   "source": [
    "import time\n",
    "import sagemaker, boto3, json\n",
    "from sagemaker.session import Session\n",
    "from sagemaker.model import Model\n",
    "from sagemaker import image_uris, model_uris, script_uris, hyperparameters\n",
    "from sagemaker.predictor import Predictor\n",
    "from sagemaker.utils import name_from_base\n",
    "from typing import Any, Dict, List, Optional\n",
    "from langchain.embeddings import SagemakerEndpointEmbeddings\n",
    "from langchain.llms.sagemaker_endpoint import ContentHandlerBase\n",
    "\n",
    "sagemaker_session = Session()\n",
    "aws_role = sagemaker_session.get_caller_identity_arn()\n",
    "aws_region = boto3.Session().region_name\n",
    "sess = sagemaker.Session()\n",
    "model_version = \"*\""
   ]
  },
  {
   "cell_type": "code",
   "execution_count": 3,
   "id": "7da17d4c",
   "metadata": {},
   "outputs": [],
   "source": [
    "import boto3, json\n",
    "from sagemaker.session import Session"
   ]
  },
  {
   "cell_type": "code",
   "execution_count": 4,
   "id": "8d2a7431",
   "metadata": {},
   "outputs": [],
   "source": [
    "sagemaker_session = Session()\n",
    "aws_role = sagemaker_session.get_caller_identity_arn()\n",
    "aws_region = boto3.Session().region_name"
   ]
  },
  {
   "cell_type": "code",
   "execution_count": 5,
   "id": "53d2a25b",
   "metadata": {},
   "outputs": [],
   "source": [
    "endpoint_name = 'jumpstart-dft-hf-llm-falcon-7b-instruct-bf16'"
   ]
  },
  {
   "cell_type": "code",
   "execution_count": 6,
   "id": "34a67f4d",
   "metadata": {},
   "outputs": [],
   "source": [
    "from langchain import SagemakerEndpoint"
   ]
  },
  {
   "cell_type": "code",
   "execution_count": 7,
   "id": "05819588",
   "metadata": {},
   "outputs": [],
   "source": [
    "from langchain.llms.sagemaker_endpoint import LLMContentHandler"
   ]
  },
  {
   "cell_type": "code",
   "execution_count": 8,
   "id": "77ee9c37",
   "metadata": {},
   "outputs": [],
   "source": [
    "class ContentHandler(LLMContentHandler):\n",
    "    content_type = \"application/json\"\n",
    "    accepts = \"application/json\"\n",
    "\n",
    "    def transform_input(self, prompt: str, model_kwargs: dict) -> bytes:\n",
    "        input_str = json.dumps({\"inputs\": prompt, **model_kwargs})\n",
    "        return input_str.encode('utf-8')\n",
    "      \n",
    "    def transform_output(self, output: bytes) -> str:\n",
    "        response_json = json.loads(output.read().decode(\"utf-8\"))\n",
    "        return response_json[0][\"generated_text\"]\n",
    "\n",
    "content_handler = ContentHandler()"
   ]
  },
  {
   "cell_type": "code",
   "execution_count": 9,
   "id": "af4abf96",
   "metadata": {},
   "outputs": [],
   "source": [
    "parameters = {\n",
    "    \"max_length\": 200,\n",
    "    \"num_return_sequences\": 1,\n",
    "    \"top_k\": 250,\n",
    "    \"top_p\": 0.95,\n",
    "    \"do_sample\": False,\n",
    "    \"temperature\": 1,\n",
    "}"
   ]
  },
  {
   "cell_type": "code",
   "execution_count": 10,
   "id": "177201dc",
   "metadata": {},
   "outputs": [],
   "source": [
    "llm = SagemakerEndpoint(\n",
    "    endpoint_name = endpoint_name, \n",
    "    region_name = aws_region, \n",
    "    model_kwargs = parameters,\n",
    "    content_handler = content_handler\n",
    ")"
   ]
  },
  {
   "cell_type": "markdown",
   "id": "23b3b751",
   "metadata": {},
   "source": [
    "## PDF Summary"
   ]
  },
  {
   "cell_type": "code",
   "execution_count": 11,
   "id": "1b66c3a4",
   "metadata": {},
   "outputs": [],
   "source": [
    "!pip install PyPDF2 --quiet"
   ]
  },
  {
   "cell_type": "code",
   "execution_count": 12,
   "id": "578d8d72",
   "metadata": {},
   "outputs": [],
   "source": [
    "import PyPDF2\n",
    "from io import BytesIO"
   ]
  },
  {
   "cell_type": "code",
   "execution_count": 13,
   "id": "16a6ebde",
   "metadata": {},
   "outputs": [],
   "source": [
    "sess = sagemaker.Session()\n",
    "s3_bucket = sess.default_bucket()\n",
    "s3_prefix = 'docs'"
   ]
  },
  {
   "cell_type": "code",
   "execution_count": 14,
   "id": "401ba031",
   "metadata": {},
   "outputs": [],
   "source": [
    "#s3_file_name = 'sample-blog.pdf'\n",
    "s3_file_name = '2016-3series.pdf'\n",
    "#s3_file_name = 'gen-ai-aws.pdf'"
   ]
  },
  {
   "cell_type": "code",
   "execution_count": 15,
   "id": "127741f3",
   "metadata": {},
   "outputs": [],
   "source": [
    "s3r = boto3.resource(\"s3\")\n",
    "doc = s3r.Object(s3_bucket, s3_prefix+'/'+s3_file_name)\n",
    "#doc = s3r.Object(, '/docs/sample.pdf')\n",
    "        \n",
    "contents = doc.get()['Body'].read()\n",
    "reader = PyPDF2.PdfReader(BytesIO(contents))\n",
    "        \n",
    "raw_text = []\n",
    "for page in reader.pages:\n",
    "    raw_text.append(page.extract_text())\n",
    "contents = '\\n'.join(raw_text)  "
   ]
  },
  {
   "cell_type": "code",
   "execution_count": 16,
   "id": "cda60ecb",
   "metadata": {},
   "outputs": [
    {
     "name": "stdout",
     "output_type": "stream",
     "text": [
      "new_contents:  Owner's Manual for Vehicle The Ultimate Driving Machine® THE BMW 3 SERIES SEDAN. OWNER'S MANUAL. Contents A-Z Online Edition for Part no. 01 40 2 960 440 - II/15  3 Series Owner's Manual for Vehicle Thank you for choosing a BMW. The more familiar you are with your vehicle, the better control you will have on the road. We therefore strongly suggest: Read this Owner's Manual before starting off in your new BMW. Also use the Integrated Owner's Manual in your vehicle. It con‐ tains important information on vehicle operation that will help you make full use of the technical features available in your BMW. The manual also contains information designed to en‐ hance operating reliability and road safety, and to contribute to maintaining the value of your BMW. Any updates made after the editorial deadline for the printed or Integrated Owner's Manual are found in the appendix of the printed Quick Reference for the vehicle. Supplementary information can be found in the additional bro‐ chures in the onboard literature. We wish you a safe and enjoyable ride. BMW AG   The Owner's Manual is available in many countries as an app. Additional information on the Internet: www.bmw.com/bmw_drivers_guide Online Edition for Part no. 01 40 2 960 440 - II/15 © 2015 Bayerische Motoren Werke Aktiengesellschaft Munich, Germany Reprinting, including excerpts, only with the written consent of BMW AG, Munich. US English II/15, 03 15 490 Printed on environmentally friendly paper, bleached without chlorine, suitable for recycling. Online Edition for Part no. 01 40 2 960 440 - II/15 Addendum ADDENDUM TO OWNER'S MANUAL We wanted to provide you with some updates  and clarifications with respect to the printed  BMW Owner's Manual. These updates and  clarifications will supersede the materials con- tained in that document.  1.Where the terms “service center,” “the ser- vice center,” “your service center,” “service  specialist,” or “service” are used in the  Owner's Manual, we wanted to clarify that  the terms refer to a BMW dealer's service  center or another service center or repair  shop that employs trained personnel that  can perform maintenance and repair work  on your vehicle in accordance with BMW  specifications.  2.Where the text of the Owner's Manual con- tains an affirmative instruction to contact a  “service center” or “your service center,”  we wanted to clarify that BMW recom- mends that, if you are faced with one of the  situations addressed by that text, you con- tact or seek the assistance of a BMW  dealer's service center or another service  center or repair shop that employs trained  personnel that can perform maintenance  and repair work on your vehicle in accor- dance with BMW specifications.  While BMW of North America LLC, at no  cost to you, will pay for repairs required by  the limited warranties provided with respect  to your vehicle and for maintenance under  the Maintenance Program during the appli- cable warranty and maintenance coverage  periods, you are free to elect, both during  those periods and thereafter, to have main- tenance and repair work provided by other  service centers or repair shops. 3.Where the Owner's Manual makes refer- ence to parts and accessories having been  approved by BMW, those references are  intended to reflect that those parts and  accessories are recommended by BMW of  North America LLC. You may elect to use  other parts and accessories, but, if you do, we recommend that you make sure that any  such parts and/or accessories are appropri- ate for use on your vehicle. 4.At page 7, under the warranty section's dis- cussion of homologation, where it states  that you “cannot lodge warranty claims for  your vehicle there,” the text should read  that you “may not be able to lodge warranty  claims for your vehicle there.”  5.At page 7, under the “Parts and accesso- ries” section, in the sixth sentence, the  word “cannot” should read “does not.” 6.At page 54, in the “Check and replace  safety belts” section, the text beginning,  “This should only be done by your service  center …” should be disregarded and the  following text should be read in lieu thereof:  “BMW recommends having this work per- formed by a service center as it is important  that this safety feature functions properly.” 7.At page 91, under the heading:   “Special  windshield,” the paragraph beginning,  “Therefore, have the special windshield …”  should be disregarded and the following  text should be read in lieu thereof:   “BMW  recommends that you have the special  windshield replaced by the service center.” 8.At page 168 under the heading: “Objects  within the range of movement of the ped- als” and at page 232 under the heading:  “Carpets and floor mats,” the paragraph  that begins: “Only use floor mats …” should  be disregarded and the following language  should be read in lieu thereof: “The manu- facturer of your vehicle recommends that  you use floor mats that have been identified  by it as appropriate for use in your vehicle  and that can be properly fixed in place.” 9.At page 173, under the heading: “Have  maintenance carried out,” the sentence  beginning, “The maintenance should be  carried out …” should be disregarded and  the following text should be read in lieu  Online Edition for Part no. 01 40 2 960 440 - II/15 Addendum thereof:  “BMW recommends that you have  the maintenance carried out by your service  center.” 10.At page 189, under the heading “Tire infla- tion specifications,” the sentence begin- ning, “Tire inflation pressure specifications  apply to approved tire sizes …” should be  disregarded. 11.At page 197, under the heading: “Mount- ing,” the paragraph beginning, “Have  mounting and balancing …” should be dis- regarded and the following text should be  read in lieu thereof: “BMW recommends  that you have mounting and balancing per- formed by your service center or a tire  mounting specialist.” 12.At page 198, under the heading: “Approved  wheels and tires,” the term “Approved”  should be disregarded and in lieu thereof,  the term “Recommended” should be read  in its place. In addition, the text of that sec- tion should be disregarded and the follow- ing text should be read in lieu thereof:  The manufacturer of your vehicle strongly  suggests that you use wheels and tires that  have been recommended by the vehicle  manufacturer for your vehicle type; other- wise, for example, despite having the same  official size ratings, variations can lead to  body contact and with it, the risk of severe  accidents.  The manufacturer of your vehicle does not  evaluate non-recommended wheels and  tires to determine if they are suitable for use  on your vehicle. 13.At page 202, under the heading: “Snow  Chains,” the text should be disregarded and  the following text should be read in lieu  thereof:  Only certain types of fine-link snow chains  have been tested by the manufacturer of  your vehicle and are determined by the  manufacturer of your vehicle to be road safe  and are recommended by the manufacturer  of your vehicle. Information about recommended snow  chains is available from a service center. 14.At page 205, under the heading “Hood,” the  sentence beginning, “If you are unfamiliar”  should be disregarded. 15.At page 208, under the heading: “Engine oil  change,” the text should be disregarded  and in lieu thereof should be read as follows: BMW recommends that you have the oil  changed at your BMW dealer's service cen- ter or at another service center that has  trained personnel that can perform the work  in accordance with BMW specifications. 16.At page 210, under the heading: “Service  and Warranty Information Booklet for US  models and Warranty and Service Guide  Booklet for Canadian models,” the second  paragraph should be disregarded and the  following text read in lieu thereof:  The manufacturer of your vehicle recom- mends that you have maintenance and  repair performed by your BMW dealer's ser- vice center or another service center or  repair s\n"
     ]
    }
   ],
   "source": [
    "new_contents = str(contents[:8000]).replace(\"\\n\",\" \") \n",
    "print('new_contents: ', new_contents)"
   ]
  },
  {
   "cell_type": "code",
   "execution_count": 30,
   "id": "c52aa1aa",
   "metadata": {},
   "outputs": [],
   "source": [
    "from langchain.text_splitter import CharacterTextSplitter\n",
    "from langchain.text_splitter import RecursiveCharacterTextSplitter\n",
    "\n",
    "text_splitter = RecursiveCharacterTextSplitter(chunk_size=1000,chunk_overlap=50)\n",
    "texts = text_splitter.split_text(new_contents) "
   ]
  },
  {
   "cell_type": "code",
   "execution_count": 26,
   "id": "08deb36d",
   "metadata": {},
   "outputs": [
    {
     "data": {
      "text/plain": [
       "\"Owner's Manual for Vehicle The Ultimate Driving Machine® THE BMW 3 SERIES SEDAN. OWNER'S MANUAL. Contents A-Z Online Edition for Part no. 01 40 2 960 440 - II/15  3 Series Owner's Manual for Vehicle Thank you for choosing a BMW. The more familiar you are with your vehicle, the better control you will have on the road. We therefore strongly suggest: Read this Owner's Manual before starting off in your new BMW. Also use the Integrated Owner's Manual in your vehicle. It con‐ tains important information on vehicle operation that will help you make full use of the technical features available in your BMW. The manual also contains information designed to en‐ hance operating reliability and road safety, and to contribute to maintaining the value of your BMW. Any updates made after the editorial deadline for the printed or Integrated Owner's Manual are found in the appendix of the printed Quick Reference for the vehicle. Supplementary information can be found in the additional bro‐ chures in the onboard literature. We wish you a safe and enjoyable ride. BMW AG   The Owner's Manual is available in many countries as an app. Additional information on the Internet: www.bmw.com/bmw_drivers_guide Online Edition for Part no. 01 40 2 960 440 - II/15 © 2015 Bayerische Motoren Werke Aktiengesellschaft Munich, Germany Reprinting, including excerpts, only with the written consent of BMW AG, Munich. US English II/15, 03 15 490 Printed on environmentally friendly paper, bleached without chlorine, suitable for recycling. Online Edition for Part no. 01 40 2 960 440 - II/15 Addendum ADDENDUM TO OWNER'S MANUAL We wanted to provide you with some updates  and clarifications with respect to the printed  BMW Owner's Manual. These updates and  clarifications will supersede the materials con- tained in that document.  1.Where the terms “service center,” “the ser- vice center,” “your service center,” “service  specialist,” or “service” are used in the  Owner's Manual, we wanted to clarify that  the terms refer to a BMW dealer's service  center or another service center or repair  shop that employs trained personnel that  can perform maintenance and repair work  on your vehicle in accordance with BMW  specifications.  2.Where the text of the Owner's Manual con- tains an affirmative instruction to contact a  “service center” or “your service center,”  we wanted to clarify that BMW recom- mends that, if you are faced with one of the  situations addressed by that text, you con- tact or seek the assistance of a BMW  dealer's service center or another service  center or repair shop that employs trained  personnel that can perform maintenance  and repair work on your vehicle in accor- dance with BMW specifications.  While BMW of North America LLC, at no  cost to you, will pay for repairs required by  the limited warranties provided with respect  to your vehicle and for maintenance under  the Maintenance Program during the appli- cable warranty and maintenance coverage  periods, you are free to elect, both during  those periods and thereafter, to have main- tenance and repair work provided by other  service centers or repair shops. 3.Where the Owner's Manual makes refer- ence to parts and accessories having been  approved by BMW, those references are  intended to reflect that those parts and  accessories are recommended by BMW of  North America LLC. You may elect to use  other parts and accessories, but, if you do, we recommend that you make sure that any  such parts and/or accessories are appropri- ate for use on your vehicle. 4.At page 7, under the warranty section's dis- cussion of homologation, where it states  that you “cannot lodge warranty claims for  your vehicle there,” the text should read  that you “may not be able to lodge warranty  claims for your vehicle there.”  5.At page 7, under the “Parts and accesso- ries” section, in the sixth sentence, the  word “cannot” should read “does not.” 6.At page 54, in the “Check and replace  safety belts” section, the text beginning,  “This should only be done by your service  center …” should be disregarded and the  following text should be read in lieu thereof:  “BMW recommends having this work per- formed by a service center as it is important  that this safety feature functions properly.” 7.At page 91, under the heading: \\xa0 “Special  windshield,” the paragraph beginning,  “Therefore, have the special windshield …”  should be disregarded and the following  text should be read in lieu thereof: \\xa0 “BMW  recommends that you have the special  windshield replaced by the service center.” 8.At page 168 under the heading: “Objects  within the range of movement of the ped- als” and at page 232 under the heading:  “Carpets and floor mats,” the paragraph  that begins: “Only use floor mats …” should  be disregarded and the following language  should be read in lieu thereof: “The manu- facturer of your vehicle recommends that  you use floor mats that have been identified  by it as appropriate for use in your vehicle  and that can be properly fixed in place.” 9.At page 173, under the heading: “Have  maintenance carried out,” the sentence  beginning, “The maintenance should be  carried out …” should be disregarded and  the following text should be read in lieu  Online Edition for Part no. 01 40 2 960 440 - II/15 Addendum thereof:\\xa0 “BMW recommends that you have  the maintenance carried out by your service  center.” 10.At page 189, under the heading “Tire infla- tion specifications,” the sentence begin- ning, “Tire inflation pressure specifications  apply to approved tire sizes …” should be  disregarded. 11.At page 197, under the heading: “Mount- ing,” the paragraph beginning, “Have  mounting and balancing …” should be dis- regarded and the following text should be  read in lieu thereof: “BMW recommends  that you have mounting and balancing per- formed by your service center or a tire  mounting specialist.” 12.At page 198, under the heading: “Approved  wheels and tires,” the term “Approved”  should be disregarded and in lieu thereof,  the term “Recommended” should be read  in its place. In addition, the text of that sec- tion should be disregarded and the follow- ing text should be read in lieu thereof:  The manufacturer of your vehicle strongly  suggests that you use wheels and tires that  have been recommended by the vehicle  manufacturer for your vehicle type; other- wise, for example, despite having the same  official size ratings, variations can lead to  body contact and with it, the risk of severe  accidents.  The manufacturer of your vehicle does not  evaluate non-recommended wheels and  tires to determine if they are suitable for use  on your vehicle. 13.At page 202, under the heading: “Snow  Chains,” the text should be disregarded and  the following text should be read in lieu  thereof:  Only certain types of fine-link snow chains  have been tested by the manufacturer of  your vehicle and are determined by the  manufacturer of your vehicle to be road safe  and are recommended by the manufacturer  of your vehicle. Information about recommended snow  chains is available from a service center. 14.At page 205, under the heading “Hood,” the  sentence beginning, “If you are unfamiliar”  should be disregarded. 15.At page 208, under the heading: “Engine oil  change,” the text should be disregarded  and in lieu thereof should be read as follows: BMW recommends that you have the oil  changed at your BMW dealer's service cen- ter or at another service center that has  trained personnel that can perform the work  in accordance with BMW specifications. 16.At page 210, under the heading: “Service  and Warranty Information Booklet for US  models and Warranty and Service Guide  Booklet for Canadian models,” the second  paragraph should be disregarded and the  following text read in lieu thereof:  The manufacturer of your vehicle recom- mends that you have maintenance and  repair performed by your BMW dealer's ser- vice center or another service center or  repair s\""
      ]
     },
     "execution_count": 26,
     "metadata": {},
     "output_type": "execute_result"
    }
   ],
   "source": [
    "texts[0]"
   ]
  },
  {
   "cell_type": "code",
   "execution_count": 32,
   "id": "e7e1ffa6",
   "metadata": {},
   "outputs": [
    {
     "data": {
      "text/plain": [
       "\"can be found in the additional bro‐ chures in the onboard literature. We wish you a safe and enjoyable ride. BMW AG   The Owner's Manual is available in many countries as an app. Additional information on the Internet: www.bmw.com/bmw_drivers_guide Online Edition for Part no. 01 40 2 960 440 - II/15 © 2015 Bayerische Motoren Werke Aktiengesellschaft Munich, Germany Reprinting, including excerpts, only with the written consent of BMW AG, Munich. US English II/15, 03 15 490 Printed on environmentally friendly paper, bleached without chlorine, suitable for recycling. Online Edition for Part no. 01 40 2 960 440 - II/15 Addendum ADDENDUM TO OWNER'S MANUAL We wanted to provide you with some updates  and clarifications with respect to the printed  BMW Owner's Manual. These updates and  clarifications will supersede the materials con- tained in that document.  1.Where the terms “service center,” “the ser- vice center,” “your service center,” “service  specialist,” or “service” are used in the\""
      ]
     },
     "execution_count": 32,
     "metadata": {},
     "output_type": "execute_result"
    }
   ],
   "source": [
    "texts[1]"
   ]
  },
  {
   "cell_type": "code",
   "execution_count": 33,
   "id": "3e4fb353",
   "metadata": {},
   "outputs": [
    {
     "name": "stdout",
     "output_type": "stream",
     "text": [
      "[Document(page_content=\"Owner's Manual for Vehicle The Ultimate Driving Machine® THE BMW 3 SERIES SEDAN. OWNER'S MANUAL. Contents A-Z Online Edition for Part no. 01 40 2 960 440 - II/15  3 Series Owner's Manual for Vehicle Thank you for choosing a BMW. The more familiar you are with your vehicle, the better control you will have on the road. We therefore strongly suggest: Read this Owner's Manual before starting off in your new BMW. Also use the Integrated Owner's Manual in your vehicle. It con‐ tains important information on vehicle operation that will help you make full use of the technical features available in your BMW. The manual also contains information designed to en‐ hance operating reliability and road safety, and to contribute to maintaining the value of your BMW. Any updates made after the editorial deadline for the printed or Integrated Owner's Manual are found in the appendix of the printed Quick Reference for the vehicle. Supplementary information can be found in the additional bro‐ chures in\", metadata={}), Document(page_content=\"can be found in the additional bro‐ chures in the onboard literature. We wish you a safe and enjoyable ride. BMW AG   The Owner's Manual is available in many countries as an app. Additional information on the Internet: www.bmw.com/bmw_drivers_guide Online Edition for Part no. 01 40 2 960 440 - II/15 © 2015 Bayerische Motoren Werke Aktiengesellschaft Munich, Germany Reprinting, including excerpts, only with the written consent of BMW AG, Munich. US English II/15, 03 15 490 Printed on environmentally friendly paper, bleached without chlorine, suitable for recycling. Online Edition for Part no. 01 40 2 960 440 - II/15 Addendum ADDENDUM TO OWNER'S MANUAL We wanted to provide you with some updates  and clarifications with respect to the printed  BMW Owner's Manual. These updates and  clarifications will supersede the materials con- tained in that document.  1.Where the terms “service center,” “the ser- vice center,” “your service center,” “service  specialist,” or “service” are used in the\", metadata={}), Document(page_content=\"specialist,” or “service” are used in the  Owner's Manual, we wanted to clarify that  the terms refer to a BMW dealer's service  center or another service center or repair  shop that employs trained personnel that  can perform maintenance and repair work  on your vehicle in accordance with BMW  specifications.  2.Where the text of the Owner's Manual con- tains an affirmative instruction to contact a  “service center” or “your service center,”  we wanted to clarify that BMW recom- mends that, if you are faced with one of the  situations addressed by that text, you con- tact or seek the assistance of a BMW  dealer's service center or another service  center or repair shop that employs trained  personnel that can perform maintenance  and repair work on your vehicle in accor- dance with BMW specifications.  While BMW of North America LLC, at no  cost to you, will pay for repairs required by  the limited warranties provided with respect  to your vehicle and for maintenance under  the\", metadata={})]\n"
     ]
    }
   ],
   "source": [
    "from langchain.docstore.document import Document\n",
    "docs = [\n",
    "    Document(\n",
    "        page_content=t\n",
    "    ) for t in texts[:3]\n",
    "]\n",
    "print(docs)"
   ]
  },
  {
   "cell_type": "code",
   "execution_count": 34,
   "id": "a8d2f45d",
   "metadata": {},
   "outputs": [
    {
     "data": {
      "text/plain": [
       "\"\\nThe Owner's Manual for the 3 Series Sedan provides information on the vehicle's\""
      ]
     },
     "execution_count": 34,
     "metadata": {},
     "output_type": "execute_result"
    }
   ],
   "source": [
    "from langchain.chains.summarize import load_summarize_chain\n",
    "chain = load_summarize_chain(llm, chain_type=\"stuff\")\n",
    "chain.run(docs)"
   ]
  },
  {
   "cell_type": "code",
   "execution_count": 35,
   "id": "90f73ff4",
   "metadata": {},
   "outputs": [],
   "source": [
    "from langchain.prompts import PromptTemplate\n",
    "\n",
    "prompt_template = \"\"\"Write a concise summary of the following:\n",
    "\n",
    "\n",
    "{text}\n",
    "\n",
    "\n",
    "CONCISE SUMMARY \"\"\"\n"
   ]
  },
  {
   "cell_type": "code",
   "execution_count": 36,
   "id": "11903828",
   "metadata": {},
   "outputs": [
    {
     "data": {
      "text/plain": [
       "\"\\nThe Owner's Manual for the 3 Series Sedan is a comprehensive guide to the vehicle\""
      ]
     },
     "execution_count": 36,
     "metadata": {},
     "output_type": "execute_result"
    }
   ],
   "source": [
    "PROMPT = PromptTemplate(template=prompt_template, input_variables=[\"text\"])\n",
    "chain = load_summarize_chain(llm, chain_type=\"stuff\", prompt=PROMPT)\n",
    "chain.run(docs)"
   ]
  },
  {
   "cell_type": "code",
   "execution_count": null,
   "id": "3136f54f",
   "metadata": {},
   "outputs": [],
   "source": []
  }
 ],
 "metadata": {
  "kernelspec": {
   "display_name": "conda_python3",
   "language": "python",
   "name": "conda_python3"
  },
  "language_info": {
   "codemirror_mode": {
    "name": "ipython",
    "version": 3
   },
   "file_extension": ".py",
   "mimetype": "text/x-python",
   "name": "python",
   "nbconvert_exporter": "python",
   "pygments_lexer": "ipython3",
   "version": "3.10.8"
  }
 },
 "nbformat": 4,
 "nbformat_minor": 5
}
