{
 "cells": [
  {
   "cell_type": "markdown",
   "id": "6ab71710",
   "metadata": {},
   "source": [
    "# PDF Summary"
   ]
  },
  {
   "cell_type": "code",
   "execution_count": 1,
   "id": "7d5a45d1",
   "metadata": {},
   "outputs": [],
   "source": [
    "#!pip install --upgrade sagemaker --quiet\n",
    "#!pip install langchain==0.0.148 --quiet\n",
    "!pip install langchain --quiet\n",
    "\n",
    "#!pip install faiss-cpu --quiet"
   ]
  },
  {
   "cell_type": "code",
   "execution_count": 2,
   "id": "95b1a42d",
   "metadata": {},
   "outputs": [],
   "source": [
    "import time\n",
    "import sagemaker, boto3, json\n",
    "from sagemaker.session import Session\n",
    "from sagemaker.model import Model\n",
    "from sagemaker import image_uris, model_uris, script_uris, hyperparameters\n",
    "from sagemaker.predictor import Predictor\n",
    "from sagemaker.utils import name_from_base\n",
    "from typing import Any, Dict, List, Optional\n",
    "from langchain.embeddings import SagemakerEndpointEmbeddings\n",
    "from langchain.llms.sagemaker_endpoint import ContentHandlerBase\n",
    "\n",
    "sagemaker_session = Session()\n",
    "aws_role = sagemaker_session.get_caller_identity_arn()\n",
    "\n",
    "sess = sagemaker.Session()\n",
    "model_version = \"*\""
   ]
  },
  {
   "cell_type": "code",
   "execution_count": 3,
   "id": "25120cd7",
   "metadata": {},
   "outputs": [],
   "source": [
    "import boto3, json\n",
    "from sagemaker.session import Session"
   ]
  },
  {
   "cell_type": "code",
   "execution_count": 4,
   "id": "7f167576",
   "metadata": {},
   "outputs": [],
   "source": [
    "sagemaker_session = Session()\n",
    "aws_role = sagemaker_session.get_caller_identity_arn()\n",
    "aws_region = boto3.Session().region_name"
   ]
  },
  {
   "cell_type": "code",
   "execution_count": 5,
   "id": "1261a7c0",
   "metadata": {},
   "outputs": [],
   "source": [
    "endpoint_name = 'jumpstart-dft-hf-llm-falcon-7b-instruct-bf16'"
   ]
  },
  {
   "cell_type": "code",
   "execution_count": 6,
   "id": "34fd4322",
   "metadata": {},
   "outputs": [],
   "source": [
    "from langchain import SagemakerEndpoint"
   ]
  },
  {
   "cell_type": "code",
   "execution_count": 7,
   "id": "b5cd81b4",
   "metadata": {},
   "outputs": [],
   "source": [
    "from langchain.llms.sagemaker_endpoint import LLMContentHandler"
   ]
  },
  {
   "cell_type": "code",
   "execution_count": 8,
   "id": "0817d625",
   "metadata": {},
   "outputs": [],
   "source": [
    "aws_region = boto3.Session().region_name"
   ]
  },
  {
   "cell_type": "code",
   "execution_count": 9,
   "id": "21ac87a0",
   "metadata": {},
   "outputs": [],
   "source": [
    "class ContentHandler(LLMContentHandler):\n",
    "    content_type = \"application/json\"\n",
    "    accepts = \"application/json\"\n",
    "\n",
    "    def transform_input(self, prompt: str, model_kwargs: dict) -> bytes:\n",
    "        input_str = json.dumps({'inputs': prompt, 'parameters': model_kwargs})\n",
    "        # input_str = json.dumps({'inputs': prompt, **model_kwargs})\n",
    "        return input_str.encode('utf-8')\n",
    "      \n",
    "    def transform_output(self, output: bytes) -> str:\n",
    "        response_json = json.loads(output.read().decode(\"utf-8\"))\n",
    "        return response_json[0][\"generated_text\"]\n",
    "\n",
    "content_handler = ContentHandler()"
   ]
  },
  {
   "cell_type": "code",
   "execution_count": 10,
   "id": "f2f59aa0",
   "metadata": {},
   "outputs": [],
   "source": [
    "parameters = {\n",
    "    \"max_new_tokens\": 300,\n",
    "    #\"max_length\": 200,\n",
    "    #\"num_return_sequences\": 1,\n",
    "    #\"top_k\": 250,\n",
    "    #\"top_p\": 0.95,\n",
    "    #\"do_sample\": False,\n",
    "    #\"temperature\": 1,\n",
    "}"
   ]
  },
  {
   "cell_type": "code",
   "execution_count": 11,
   "id": "320cfe09",
   "metadata": {},
   "outputs": [],
   "source": [
    "llm = SagemakerEndpoint(\n",
    "    endpoint_name = endpoint_name, \n",
    "    region_name = aws_region, \n",
    "    model_kwargs = parameters,\n",
    "    content_handler = content_handler\n",
    ")"
   ]
  },
  {
   "cell_type": "markdown",
   "id": "c5b2dc79",
   "metadata": {},
   "source": [
    "## PDF Summary"
   ]
  },
  {
   "cell_type": "code",
   "execution_count": 12,
   "id": "17fae785",
   "metadata": {},
   "outputs": [],
   "source": [
    "!pip install PyPDF2 --quiet"
   ]
  },
  {
   "cell_type": "code",
   "execution_count": 13,
   "id": "1d5ebaef",
   "metadata": {},
   "outputs": [],
   "source": [
    "import PyPDF2\n",
    "from io import BytesIO"
   ]
  },
  {
   "cell_type": "code",
   "execution_count": 14,
   "id": "57f8c5e0",
   "metadata": {},
   "outputs": [],
   "source": [
    "sess = sagemaker.Session()\n",
    "s3_bucket = sess.default_bucket()\n",
    "s3_prefix = 'docs'"
   ]
  },
  {
   "cell_type": "code",
   "execution_count": 15,
   "id": "2a4c3c23",
   "metadata": {},
   "outputs": [],
   "source": [
    "# !aws s3 cp --recursive contents `s3://{s3_bucket}/{s3_prefix}/`"
   ]
  },
  {
   "cell_type": "code",
   "execution_count": 16,
   "id": "cec05118",
   "metadata": {},
   "outputs": [],
   "source": [
    "#s3_file_name = 'sample-blog.pdf'\n",
    "s3_file_name = '2016-3series.pdf'\n",
    "#s3_file_name = 'gen-ai-aws.pdf'"
   ]
  },
  {
   "cell_type": "code",
   "execution_count": 17,
   "id": "9c01370b",
   "metadata": {},
   "outputs": [],
   "source": [
    "s3r = boto3.resource(\"s3\")\n",
    "doc = s3r.Object(s3_bucket, s3_prefix+'/'+s3_file_name)\n",
    "        \n",
    "contents = doc.get()['Body'].read()\n",
    "reader = PyPDF2.PdfReader(BytesIO(contents))\n",
    "        \n",
    "raw_text = []\n",
    "for page in reader.pages:\n",
    "    raw_text.append(page.extract_text())\n",
    "contents = '\\n'.join(raw_text)  "
   ]
  },
  {
   "cell_type": "code",
   "execution_count": 18,
   "id": "ebf4adbc",
   "metadata": {},
   "outputs": [],
   "source": [
    "new_contents = str(contents).replace(\"\\n\",\" \") \n",
    "#new_contents = str(contents[:8000]).replace(\"\\n\",\" \") "
   ]
  },
  {
   "cell_type": "markdown",
   "id": "200fbb39",
   "metadata": {},
   "source": [
    "### RecursiveCharacterTextSplitter를 이용해 chunk로 텍스트를 분리합니다."
   ]
  },
  {
   "cell_type": "code",
   "execution_count": 19,
   "id": "bfe9440b",
   "metadata": {},
   "outputs": [],
   "source": [
    "from langchain.text_splitter import CharacterTextSplitter\n",
    "from langchain.text_splitter import RecursiveCharacterTextSplitter\n",
    "\n",
    "text_splitter = RecursiveCharacterTextSplitter(chunk_size=1000,chunk_overlap=0)\n",
    "texts = text_splitter.split_text(new_contents) "
   ]
  },
  {
   "cell_type": "code",
   "execution_count": 20,
   "id": "0a9b26d3",
   "metadata": {},
   "outputs": [
    {
     "data": {
      "text/plain": [
       "444"
      ]
     },
     "execution_count": 20,
     "metadata": {},
     "output_type": "execute_result"
    }
   ],
   "source": [
    "len(texts)"
   ]
  },
  {
   "cell_type": "code",
   "execution_count": 21,
   "id": "39c1de81",
   "metadata": {},
   "outputs": [
    {
     "name": "stdout",
     "output_type": "stream",
     "text": [
      "Owner's Manual for Vehicle The Ultimate Driving Machine® THE BMW 3 SERIES SEDAN. OWNER'S MANUAL. Contents A-Z Online Edition for Part no. 01 40 2 960 440 - II/15  3 Series Owner's Manual for Vehicle Thank you for choosing a BMW. The more familiar you are with your vehicle, the better control you will have on the road. We therefore strongly suggest: Read this Owner's Manual before starting off in your new BMW. Also use the Integrated Owner's Manual in your vehicle. It con‐ tains important information on vehicle operation that will help you make full use of the technical features available in your BMW. The manual also contains information designed to en‐ hance operating reliability and road safety, and to contribute to maintaining the value of your BMW. Any updates made after the editorial deadline for the printed or Integrated Owner's Manual are found in the appendix of the printed Quick Reference for the vehicle. Supplementary information can be found in the additional bro‐ chures in\n"
     ]
    }
   ],
   "source": [
    "print(texts[0])"
   ]
  },
  {
   "cell_type": "code",
   "execution_count": 22,
   "id": "9afcd0d5",
   "metadata": {},
   "outputs": [],
   "source": [
    "from langchain.docstore.document import Document\n",
    "docs = [\n",
    "    Document(\n",
    "        page_content=t\n",
    "    ) for t in texts[:3]\n",
    "]"
   ]
  },
  {
   "cell_type": "code",
   "execution_count": 23,
   "id": "b9b57fd4",
   "metadata": {},
   "outputs": [
    {
     "data": {
      "text/plain": [
       "3"
      ]
     },
     "execution_count": 23,
     "metadata": {},
     "output_type": "execute_result"
    }
   ],
   "source": [
    "len(docs)"
   ]
  },
  {
   "cell_type": "markdown",
   "id": "63a84286",
   "metadata": {},
   "source": [
    "### Summerrize type: stuff, refine, map_reduce"
   ]
  },
  {
   "cell_type": "code",
   "execution_count": 24,
   "id": "bebb6493",
   "metadata": {},
   "outputs": [
    {
     "name": "stdout",
     "output_type": "stream",
     "text": [
      "\n",
      "The Owner's Manual for the 3 Series Sedan provides information on the vehicle's features and operation. It also includes updates and clarifications to the printed manual.\n"
     ]
    }
   ],
   "source": [
    "from langchain.chains.summarize import load_summarize_chain\n",
    "chain = load_summarize_chain(llm, chain_type=\"stuff\")\n",
    "output = chain.run(docs)\n",
    "print(output)"
   ]
  },
  {
   "cell_type": "code",
   "execution_count": 25,
   "id": "9041bc3b",
   "metadata": {},
   "outputs": [],
   "source": [
    "from langchain.prompts import PromptTemplate\n",
    "\n",
    "prompt_template = \"\"\"Write a concise summary of the following:\n",
    "\n",
    "\n",
    "{text}\n",
    "\n",
    "\n",
    "CONCISE SUMMARY \"\"\"\n"
   ]
  },
  {
   "cell_type": "code",
   "execution_count": 26,
   "id": "34316925",
   "metadata": {},
   "outputs": [
    {
     "name": "stdout",
     "output_type": "stream",
     "text": [
      "\n",
      "The Owner's Manual for the 3 Series is a comprehensive guide to the vehicle's features and operation. It contains important information on vehicle operation that will help you make full use of the technical features available in your BMW. The manual also contains information designed to enhance operating reliability and road safety, and to contribute to maintaining the value of your BMW. Any updates made after the editorial deadline for the printed or Integrated Owner's Manual are found in the appendix of the printed Quick Reference for the vehicle. Supplementary information can be found in the additional brochures in the onboard literature. We wish you a safe and enjoyable ride.\n",
      "\n",
      "BMW AG\n",
      "The Owner's Manual is available in many countries as an app. Additional information on the Internet: www.bmw.com/bmw_drivers_guide Online Edition for Part no. 01 40 2 960 440 - II/15 © 2015 Bayerische Motoren Werke Aktiengesellschaft Munich, Germany Reprinting, including excerpts, only with the written consent of Bayerische Motoren Werke Aktiengesellschaft Munich, Germany. US English II/15, 03 15 490 Printed on environmentally friendly paper, bleached without chlorine, suitable for recycling. Online Edition for Part no. 01 40 2 960 440 - II/15 Addendum ADDENDUM TO OWNER'S MANUAL We wanted to provide you with some updates  and\n"
     ]
    }
   ],
   "source": [
    "PROMPT = PromptTemplate(template=prompt_template, input_variables=[\"text\"])\n",
    "chain = load_summarize_chain(llm, chain_type=\"stuff\", prompt=PROMPT)\n",
    "output = chain.run(docs)\n",
    "print(output)"
   ]
  }
 ],
 "metadata": {
  "kernelspec": {
   "display_name": "conda_python3",
   "language": "python",
   "name": "conda_python3"
  },
  "language_info": {
   "codemirror_mode": {
    "name": "ipython",
    "version": 3
   },
   "file_extension": ".py",
   "mimetype": "text/x-python",
   "name": "python",
   "nbconvert_exporter": "python",
   "pygments_lexer": "ipython3",
   "version": "3.10.8"
  }
 },
 "nbformat": 4,
 "nbformat_minor": 5
}
