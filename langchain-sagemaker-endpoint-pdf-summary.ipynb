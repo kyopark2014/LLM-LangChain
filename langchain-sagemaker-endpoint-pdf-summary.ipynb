{
 "cells": [
  {
   "cell_type": "markdown",
   "id": "3dff853f",
   "metadata": {},
   "source": [
    "# PDF Summary"
   ]
  },
  {
   "cell_type": "code",
   "execution_count": 1,
   "id": "50af2ecf",
   "metadata": {},
   "outputs": [],
   "source": [
    "#!pip install --upgrade sagemaker --quiet\n",
    "!pip install langchain==0.0.148 --quiet\n",
    "#!pip install faiss-cpu --quiet"
   ]
  },
  {
   "cell_type": "code",
   "execution_count": 2,
   "id": "d9d4ecd7",
   "metadata": {},
   "outputs": [],
   "source": [
    "import time\n",
    "import sagemaker, boto3, json\n",
    "from sagemaker.session import Session\n",
    "from sagemaker.model import Model\n",
    "from sagemaker import image_uris, model_uris, script_uris, hyperparameters\n",
    "from sagemaker.predictor import Predictor\n",
    "from sagemaker.utils import name_from_base\n",
    "from typing import Any, Dict, List, Optional\n",
    "from langchain.embeddings import SagemakerEndpointEmbeddings\n",
    "from langchain.llms.sagemaker_endpoint import ContentHandlerBase\n",
    "\n",
    "sagemaker_session = Session()\n",
    "aws_role = sagemaker_session.get_caller_identity_arn()\n",
    "aws_region = boto3.Session().region_name\n",
    "sess = sagemaker.Session()\n",
    "model_version = \"*\""
   ]
  },
  {
   "cell_type": "code",
   "execution_count": 3,
   "id": "8aa68ffd",
   "metadata": {},
   "outputs": [],
   "source": [
    "import boto3, json\n",
    "from sagemaker.session import Session"
   ]
  },
  {
   "cell_type": "code",
   "execution_count": 4,
   "id": "f601cc73",
   "metadata": {},
   "outputs": [],
   "source": [
    "sagemaker_session = Session()\n",
    "aws_role = sagemaker_session.get_caller_identity_arn()\n",
    "aws_region = boto3.Session().region_name"
   ]
  },
  {
   "cell_type": "code",
   "execution_count": 5,
   "id": "92a707bb",
   "metadata": {},
   "outputs": [],
   "source": [
    "endpoint_name = 'jumpstart-dft-hf-llm-falcon-7b-instruct-bf16'"
   ]
  },
  {
   "cell_type": "code",
   "execution_count": 6,
   "id": "748e6b58",
   "metadata": {},
   "outputs": [],
   "source": [
    "from langchain import SagemakerEndpoint"
   ]
  },
  {
   "cell_type": "code",
   "execution_count": 7,
   "id": "0f600a9c",
   "metadata": {},
   "outputs": [],
   "source": [
    "from langchain.llms.sagemaker_endpoint import LLMContentHandler"
   ]
  },
  {
   "cell_type": "code",
   "execution_count": 8,
   "id": "150d6187",
   "metadata": {},
   "outputs": [],
   "source": [
    "class ContentHandler(LLMContentHandler):\n",
    "    content_type = \"application/json\"\n",
    "    accepts = \"application/json\"\n",
    "\n",
    "    def transform_input(self, prompt: str, model_kwargs: dict) -> bytes:\n",
    "        input_str = json.dumps({\"inputs\": prompt, **model_kwargs})\n",
    "        return input_str.encode('utf-8')\n",
    "      \n",
    "    def transform_output(self, output: bytes) -> str:\n",
    "        response_json = json.loads(output.read().decode(\"utf-8\"))\n",
    "        return response_json[0][\"generated_text\"]\n",
    "\n",
    "content_handler = ContentHandler()"
   ]
  },
  {
   "cell_type": "code",
   "execution_count": 9,
   "id": "0fdf4a61",
   "metadata": {},
   "outputs": [],
   "source": [
    "parameters = {\n",
    "    \"max_length\": 200,\n",
    "    \"num_return_sequences\": 1,\n",
    "    \"top_k\": 250,\n",
    "    \"top_p\": 0.95,\n",
    "    \"do_sample\": False,\n",
    "    \"temperature\": 1,\n",
    "}"
   ]
  },
  {
   "cell_type": "code",
   "execution_count": 10,
   "id": "a74b436b",
   "metadata": {},
   "outputs": [],
   "source": [
    "llm = SagemakerEndpoint(\n",
    "    endpoint_name = endpoint_name, \n",
    "    region_name = aws_region, \n",
    "    model_kwargs = parameters,\n",
    "    content_handler = content_handler\n",
    ")"
   ]
  },
  {
   "cell_type": "markdown",
   "id": "e2f99931",
   "metadata": {},
   "source": [
    "## PDF Summary"
   ]
  },
  {
   "cell_type": "code",
   "execution_count": 11,
   "id": "96d1b7fe",
   "metadata": {},
   "outputs": [],
   "source": [
    "!pip install PyPDF2 --quiet"
   ]
  },
  {
   "cell_type": "code",
   "execution_count": 12,
   "id": "18342cf4",
   "metadata": {},
   "outputs": [],
   "source": [
    "import PyPDF2\n",
    "from io import BytesIO"
   ]
  },
  {
   "cell_type": "code",
   "execution_count": 13,
   "id": "f5f1c4a9",
   "metadata": {},
   "outputs": [],
   "source": [
    "sess = sagemaker.Session()\n",
    "s3_bucket = sess.default_bucket()\n",
    "s3_prefix = 'docs'"
   ]
  },
  {
   "cell_type": "code",
   "execution_count": 14,
   "id": "b229b7bc",
   "metadata": {},
   "outputs": [],
   "source": [
    "s3_file_name = 'sample-blog.pdf'\n",
    "#s3_file_name = '2016-3series.pdf'\n",
    "#s3_file_name = 'gen-ai-aws.pdf'"
   ]
  },
  {
   "cell_type": "code",
   "execution_count": 15,
   "id": "b6276c36",
   "metadata": {},
   "outputs": [],
   "source": [
    "s3r = boto3.resource(\"s3\")\n",
    "doc = s3r.Object(s3_bucket, s3_prefix+'/'+s3_file_name)\n",
    "#doc = s3r.Object(, '/docs/sample.pdf')\n",
    "        \n",
    "contents = doc.get()['Body'].read()\n",
    "reader = PyPDF2.PdfReader(BytesIO(contents))\n",
    "        \n",
    "raw_text = []\n",
    "for page in reader.pages:\n",
    "    raw_text.append(page.extract_text())\n",
    "contents = '\\n'.join(raw_text)  "
   ]
  },
  {
   "cell_type": "code",
   "execution_count": 16,
   "id": "49f518ea",
   "metadata": {},
   "outputs": [
    {
     "name": "stdout",
     "output_type": "stream",
     "text": [
      "new_contents:  Exam ple blog entry   Moving Day and settling in   Due to wanting to live closer to the city centre, I moved from my  house in second year to a flat in the city centre for third  year.  Mov ing back to Liverpool was great;  I felt like I was coming  home,  much to my parents ’ displeasure!    For the first week back , I worked a few days for the university in  my job as an A mbassador, showing potential new students  round while becoming reacqua inted with the campus myself.   When lectures restarted , it seemed like summer had  disappeared in a matter of minutes!   However , I was eager to get learning again and looked forward  to seminars and lectures on the books and topics I had been researching over the su mmer.   Students from older years had warned me about third year being pretty scary, so I had prepared well  and really enjoyed the first lectures from my new modules. Reconnecting with my societies was  doubly fun, being the President of Combined Honours for the year meant lots of summer  preparation for our first social – which was a big hit! Furthermore, as a member of the dance society  “bodysoc”, I got back into my dance classe s and performance preparation.   \n"
     ]
    }
   ],
   "source": [
    "new_contents = str(contents[:8000]).replace(\"\\n\",\" \") \n",
    "print('new_contents: ', new_contents)"
   ]
  },
  {
   "cell_type": "code",
   "execution_count": 17,
   "id": "b15fc3ee",
   "metadata": {},
   "outputs": [
    {
     "name": "stdout",
     "output_type": "stream",
     "text": [
      "['Exam ple blog entry   Moving Day and settling in   Due to wanting to live closer to the city centre, I moved from my  house in second year to a flat in the city centre for third  year.  Mov ing back to Liverpool was great;  I felt like I was coming  home,  much to my parents ’ displeasure!    For the first week back , I worked a few days for the university in  my job as an A mbassador, showing potential new students  round while becoming reacqua inted with the campus myself.   When lectures restarted , it seemed like summer had  disappeared in a matter of minutes!   However , I was eager to get learning again and looked forward  to seminars and lectures on the books and topics I had been researching over the su mmer.   Students from older years had warned me about third year being pretty scary, so I had prepared well  and really enjoyed the first lectures from my new modules. Reconnecting with my societies was  doubly fun, being the President of Combined Honours for the year meant lots of summer  preparation for our first social – which was a big hit! Furthermore, as a member of the dance society  “bodysoc”, I got back into my dance classe s and performance preparation.']\n"
     ]
    }
   ],
   "source": [
    "from langchain.text_splitter import CharacterTextSplitter\n",
    "text_splitter = CharacterTextSplitter()\n",
    "texts = text_splitter.split_text(new_contents) \n",
    "print(texts)"
   ]
  },
  {
   "cell_type": "code",
   "execution_count": 18,
   "id": "134a5e8e",
   "metadata": {},
   "outputs": [
    {
     "name": "stdout",
     "output_type": "stream",
     "text": [
      "[Document(page_content='Exam ple blog entry   Moving Day and settling in   Due to wanting to live closer to the city centre, I moved from my  house in second year to a flat in the city centre for third  year.  Mov ing back to Liverpool was great;  I felt like I was coming  home,  much to my parents ’ displeasure!    For the first week back , I worked a few days for the university in  my job as an A mbassador, showing potential new students  round while becoming reacqua inted with the campus myself.   When lectures restarted , it seemed like summer had  disappeared in a matter of minutes!   However , I was eager to get learning again and looked forward  to seminars and lectures on the books and topics I had been researching over the su mmer.   Students from older years had warned me about third year being pretty scary, so I had prepared well  and really enjoyed the first lectures from my new modules. Reconnecting with my societies was  doubly fun, being the President of Combined Honours for the year meant lots of summer  preparation for our first social – which was a big hit! Furthermore, as a member of the dance society  “bodysoc”, I got back into my dance classe s and performance preparation.', metadata={})]\n"
     ]
    }
   ],
   "source": [
    "from langchain.docstore.document import Document\n",
    "docs = [Document(page_content=t) for t in texts[:10]]\n",
    "print(docs)"
   ]
  },
  {
   "cell_type": "code",
   "execution_count": 19,
   "id": "77ce7c98",
   "metadata": {},
   "outputs": [
    {
     "data": {
      "text/plain": [
       "' The writer moved from their parental home to a flat in the city centre for their third year of university'"
      ]
     },
     "execution_count": 19,
     "metadata": {},
     "output_type": "execute_result"
    }
   ],
   "source": [
    "from langchain.chains.summarize import load_summarize_chain\n",
    "chain = load_summarize_chain(llm, chain_type=\"stuff\")\n",
    "chain.run(docs)"
   ]
  },
  {
   "cell_type": "code",
   "execution_count": 20,
   "id": "d069e676",
   "metadata": {},
   "outputs": [],
   "source": [
    "from langchain.prompts import PromptTemplate\n",
    "\n",
    "prompt_template = \"\"\"Write a concise summary of the following:\n",
    "\n",
    "\n",
    "{text}\n",
    "\n",
    "\n",
    "CONCISE SUMMARY \"\"\"\n"
   ]
  },
  {
   "cell_type": "code",
   "execution_count": 21,
   "id": "6a36879e",
   "metadata": {},
   "outputs": [
    {
     "data": {
      "text/plain": [
       "': The author moved from their parental home to a flat in the city centre for their third year,'"
      ]
     },
     "execution_count": 21,
     "metadata": {},
     "output_type": "execute_result"
    }
   ],
   "source": [
    "PROMPT = PromptTemplate(template=prompt_template, input_variables=[\"text\"])\n",
    "chain = load_summarize_chain(llm, chain_type=\"stuff\", prompt=PROMPT)\n",
    "chain.run(docs)"
   ]
  },
  {
   "cell_type": "code",
   "execution_count": null,
   "id": "a69f3e81",
   "metadata": {},
   "outputs": [],
   "source": []
  }
 ],
 "metadata": {
  "kernelspec": {
   "display_name": "conda_python3",
   "language": "python",
   "name": "conda_python3"
  },
  "language_info": {
   "codemirror_mode": {
    "name": "ipython",
    "version": 3
   },
   "file_extension": ".py",
   "mimetype": "text/x-python",
   "name": "python",
   "nbconvert_exporter": "python",
   "pygments_lexer": "ipython3",
   "version": "3.10.8"
  }
 },
 "nbformat": 4,
 "nbformat_minor": 5
}
