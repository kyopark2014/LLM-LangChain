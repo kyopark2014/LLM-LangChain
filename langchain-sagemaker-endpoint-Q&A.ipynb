{
 "cells": [
  {
   "cell_type": "markdown",
   "id": "dddb6b93",
   "metadata": {},
   "source": [
    "# LangChain - SageMaker Endpoint (Falcon FM)"
   ]
  },
  {
   "cell_type": "markdown",
   "id": "de67f37c",
   "metadata": {},
   "source": [
    "## question_answering: load_qa_chain"
   ]
  },
  {
   "cell_type": "markdown",
   "id": "8c38d315",
   "metadata": {},
   "source": [
    "[LangChain - Modeules - Language models - LLMs - Integration - SageMakerEndpoint](https://python.langchain.com/docs/modules/model_io/models/llms/integrations/sagemaker.html)"
   ]
  },
  {
   "cell_type": "code",
   "execution_count": 1,
   "id": "6c667422",
   "metadata": {},
   "outputs": [],
   "source": [
    "!pip3 install langchain --quiet"
   ]
  },
  {
   "cell_type": "code",
   "execution_count": 2,
   "id": "ba3aa914",
   "metadata": {},
   "outputs": [],
   "source": [
    "endpoint_name = 'jumpstart-dft-hf-llm-falcon-7b-instruct-bf16'"
   ]
  },
  {
   "cell_type": "code",
   "execution_count": 27,
   "id": "3bc99052",
   "metadata": {},
   "outputs": [],
   "source": [
    "import json\n",
    "import sagemaker\n",
    "import boto3\n",
    "from typing import Dict\n",
    "from langchain import PromptTemplate, SagemakerEndpoint\n",
    "from langchain.llms.sagemaker_endpoint import LLMContentHandler\n",
    "\n",
    "aws_region = boto3.Session().region_name"
   ]
  },
  {
   "cell_type": "code",
   "execution_count": 28,
   "id": "83c9176c",
   "metadata": {},
   "outputs": [],
   "source": [
    "class ContentHandler(LLMContentHandler):\n",
    "    content_type = \"application/json\"\n",
    "    accepts = \"application/json\"\n",
    "\n",
    "    def transform_input(self, prompt: str, model_kwargs: dict) -> bytes:\n",
    "        input_str = json.dumps({'inputs': prompt, **model_kwargs})\n",
    "        return input_str.encode('utf-8')\n",
    "      \n",
    "    def transform_output(self, output: bytes) -> str:\n",
    "        response_json = json.loads(output.read().decode(\"utf-8\"))\n",
    "        \n",
    "        return response_json[0][\"generated_text\"]\n",
    "content_handler = ContentHandler()"
   ]
  },
  {
   "cell_type": "code",
   "execution_count": 29,
   "id": "de59f676",
   "metadata": {},
   "outputs": [],
   "source": [
    "parameters = {\n",
    "    \"max_length\": 300,\n",
    "    \"num_return_sequences\": 1,\n",
    "    \"top_k\": 250,\n",
    "    \"top_p\": 0.95,\n",
    "    \"do_sample\": False,\n",
    "    \"temperature\": 1,\n",
    "}"
   ]
  },
  {
   "cell_type": "code",
   "execution_count": 30,
   "id": "5c128425",
   "metadata": {},
   "outputs": [],
   "source": [
    "template = \"\"\"Use the following pieces of context to answer the question at the end.\n",
    "\n",
    "{context}\n",
    "\n",
    "Question: {question}\n",
    "Answer:\"\"\"\n",
    "\n",
    "prompt = PromptTemplate(\n",
    "    template=template, input_variables=[\"context\", \"question\"]\n",
    ")"
   ]
  },
  {
   "cell_type": "code",
   "execution_count": 31,
   "id": "d4747211",
   "metadata": {},
   "outputs": [],
   "source": [
    "from langchain.chains.question_answering import load_qa_chain\n",
    "\n",
    "llm = SagemakerEndpoint(\n",
    "    endpoint_name = endpoint_name, \n",
    "    region_name = aws_region, \n",
    "    model_kwargs = parameters,\n",
    "    content_handler = content_handler\n",
    ")"
   ]
  },
  {
   "cell_type": "code",
   "execution_count": 32,
   "id": "a5ac4751",
   "metadata": {},
   "outputs": [
    {
     "name": "stdout",
     "output_type": "stream",
     "text": [
      ".\n",
      "1. Choose a domain name\n",
      "2. Register a domain name\n",
      "3. Choose a\n"
     ]
    }
   ],
   "source": [
    "output = llm('Building a website can be done in 10 simple steps')\n",
    "print(output)"
   ]
  },
  {
   "cell_type": "code",
   "execution_count": 48,
   "id": "26e68545",
   "metadata": {},
   "outputs": [
    {
     "name": "stdout",
     "output_type": "stream",
     "text": [
      "\n",
      "I once told a joke to a friend, but it didn't work. He just looked\n"
     ]
    }
   ],
   "source": [
    "output = llm(\"Tell me a joke\")\n",
    "print(output)"
   ]
  },
  {
   "cell_type": "code",
   "execution_count": 33,
   "id": "4f2cff05",
   "metadata": {},
   "outputs": [],
   "source": [
    "from langchain.docstore.document import Document\n",
    "\n",
    "example_doc_1 = \"\"\"\n",
    "Peter and Elizabeth took a taxi to attend the night party in the city. While in the party, Elizabeth collapsed and was rushed to the hospital.\n",
    "Since she was diagnosed with a brain injury, the doctor told Peter to stay besides her until she gets well.\n",
    "Therefore, Peter stayed with her at the hospital for 3 days without leaving.\n",
    "\"\"\"\n",
    "\n",
    "docs = [\n",
    "    Document(\n",
    "        page_content=example_doc_1,\n",
    "    )\n",
    "]"
   ]
  },
  {
   "cell_type": "code",
   "execution_count": 34,
   "id": "4bef4a93",
   "metadata": {},
   "outputs": [],
   "source": [
    "query = \"How long was Elizabeth hospitalized?\""
   ]
  },
  {
   "cell_type": "code",
   "execution_count": 35,
   "id": "dfa5ee15",
   "metadata": {},
   "outputs": [
    {
     "name": "stdout",
     "output_type": "stream",
     "text": [
      "{'output_text': ' 3 days'}\n"
     ]
    }
   ],
   "source": [
    "chain = load_qa_chain(prompt=prompt, llm=llm)\n",
    "\n",
    "output = chain({\"input_documents\": docs, \"question\": query}, return_only_outputs=True)\n",
    "print(output)"
   ]
  },
  {
   "cell_type": "markdown",
   "id": "0617142b",
   "metadata": {},
   "source": [
    "## Retrieval-Augmented Generation: Question Answering based on Custom Dataset with Open-sourced LangChain Library\n",
    "[Retrieval-Augmented Generation: Question Answering based on Custom Dataset with Open-sourced LangChain Library](https://github.com/aws/amazon-sagemaker-examples/blob/main/introduction_to_amazon_algorithms/jumpstart-foundation-models/question_answering_retrieval_augmented_generation/question_answering_langchain_jumpstart.ipynb)"
   ]
  },
  {
   "cell_type": "markdown",
   "id": "8537b9d8",
   "metadata": {},
   "source": [
    "## Case1 - Question / Answering"
   ]
  },
  {
   "cell_type": "code",
   "execution_count": 36,
   "id": "09a7f952",
   "metadata": {},
   "outputs": [],
   "source": [
    "from langchain import PromptTemplate, LLMChain"
   ]
  },
  {
   "cell_type": "code",
   "execution_count": 37,
   "id": "01a28cc8",
   "metadata": {},
   "outputs": [],
   "source": [
    "question = 'Building a website can be done in 10 simple steps'"
   ]
  },
  {
   "cell_type": "code",
   "execution_count": 38,
   "id": "cac00e81",
   "metadata": {},
   "outputs": [],
   "source": [
    "template = \"\"\"Question: {question}\n",
    "Answer: Let's think step by step.\"\"\"\n",
    "\n",
    "prompt = PromptTemplate(template=template, input_variables=[\"question\"])"
   ]
  },
  {
   "cell_type": "code",
   "execution_count": 39,
   "id": "a0c6d03c",
   "metadata": {},
   "outputs": [],
   "source": [
    "llm_chain = LLMChain(prompt=prompt, llm=llm)"
   ]
  },
  {
   "cell_type": "code",
   "execution_count": 40,
   "id": "c526584f",
   "metadata": {},
   "outputs": [
    {
     "name": "stdout",
     "output_type": "stream",
     "text": [
      "\n",
      "1. Choose a domain name.\n",
      "2. Register the domain name.\n",
      "3. Choose\n"
     ]
    }
   ],
   "source": [
    "output = llm_chain.run(question)\n",
    "print(output)"
   ]
  },
  {
   "cell_type": "markdown",
   "id": "c9442475",
   "metadata": {},
   "source": [
    "## Case2-1 - Prompt Template"
   ]
  },
  {
   "cell_type": "code",
   "execution_count": 41,
   "id": "7001f512",
   "metadata": {},
   "outputs": [],
   "source": [
    "question = 'Summerize this:'"
   ]
  },
  {
   "cell_type": "code",
   "execution_count": 42,
   "id": "8d3a5f75",
   "metadata": {},
   "outputs": [],
   "source": [
    "template = \"\"\"\n",
    "{question}\n",
    "\n",
    "Simple and quick to make, pasta is one of the most popular and essential store cupboard staples. Follow a few basic principles and these six steps, and you’ll soon know how to cook pasta like a pro.\n",
    "This guide will show you the basics, but check out our ultimate guide to pasta shapes to find out the best pasta and sauce pairings. Try spaghetti with basil and tomato, robust pappardelle with rich ragù or small tubes of macaroni with silky cheese sauce\n",
    "For now though, start simple. Here are some basic ‘rules’ to follow:\n",
    "Always, always salt the pasta water! It will affect the taste of the pasta, and the sauce you serve it with, so never miss out this step. \n",
    "Avoid food waste and measure your portions. 75g of dried pasta per person is about right. If you’re cooking for 4 people, you’ll need 300g of pasta.\n",
    "Give your pasta plenty of room to cook – so you want a large pan.\n",
    "Cover your pan with a lid to help bring the water up to the boil more quickly, then remove the lid once the water is boiling or reduce the temperature slightly to stop it bubbling over.\n",
    "Add the pasta to the water once it’s boiling, never before, and cook without the lid..\n",
    "\"\"\""
   ]
  },
  {
   "cell_type": "code",
   "execution_count": 43,
   "id": "4a61e7a3",
   "metadata": {},
   "outputs": [
    {
     "name": "stdout",
     "output_type": "stream",
     "text": [
      "\n",
      "1. Identify the main points in the text.\n",
      "2. Combine the main points into a\n"
     ]
    }
   ],
   "source": [
    "outputText = llm_chain.run(question)\n",
    "print(outputText)"
   ]
  },
  {
   "cell_type": "markdown",
   "id": "a5391fd4",
   "metadata": {},
   "source": [
    "## Case2-2 - Prompt Template"
   ]
  },
  {
   "cell_type": "code",
   "execution_count": 44,
   "id": "4757ddd0",
   "metadata": {},
   "outputs": [],
   "source": [
    "template = \"\"\"\n",
    "  The following is a friendly conversation between a human and an AI. \n",
    "  The AI is talkative and provides lots of specific details from its context.\n",
    "  If the AI does not know the answer to a question, it truthfully says it \n",
    "  does not know.\n",
    "  Instruction: Based on the above documents, provide a detailed answer for, {question} Answer \"don't know\" \n",
    "  if not present in the document. \n",
    "  Solution:\"\"\""
   ]
  },
  {
   "cell_type": "code",
   "execution_count": 45,
   "id": "7157dc21",
   "metadata": {},
   "outputs": [],
   "source": [
    "prompt = PromptTemplate(template=template, input_variables=[\"question\"])"
   ]
  },
  {
   "cell_type": "code",
   "execution_count": 46,
   "id": "b500c95a",
   "metadata": {},
   "outputs": [],
   "source": [
    "llm_chain = LLMChain(prompt=prompt, llm=llm)\n",
    "question = \"Summarize this step by step with 200 words:\""
   ]
  },
  {
   "cell_type": "code",
   "execution_count": 47,
   "id": "3f3e68ec",
   "metadata": {},
   "outputs": [
    {
     "name": "stdout",
     "output_type": "stream",
     "text": [
      " If the AI does not know the answer to a question, it truthfully says it does not know\n"
     ]
    }
   ],
   "source": [
    "outputText = llm_chain.run(question)\n",
    "print(outputText)"
   ]
  }
 ],
 "metadata": {
  "kernelspec": {
   "display_name": "conda_python3",
   "language": "python",
   "name": "conda_python3"
  },
  "language_info": {
   "codemirror_mode": {
    "name": "ipython",
    "version": 3
   },
   "file_extension": ".py",
   "mimetype": "text/x-python",
   "name": "python",
   "nbconvert_exporter": "python",
   "pygments_lexer": "ipython3",
   "version": "3.10.8"
  }
 },
 "nbformat": 4,
 "nbformat_minor": 5
}
