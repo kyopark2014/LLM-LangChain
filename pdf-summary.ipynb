{
 "cells": [
  {
   "cell_type": "markdown",
   "id": "388abacc",
   "metadata": {},
   "source": [
    "# PDF Summary"
   ]
  },
  {
   "cell_type": "code",
   "execution_count": 1,
   "id": "89b64378",
   "metadata": {},
   "outputs": [],
   "source": [
    "#!pip install --upgrade sagemaker --quiet\n",
    "!pip install langchain==0.0.148 --quiet\n",
    "#!pip install faiss-cpu --quiet"
   ]
  },
  {
   "cell_type": "code",
   "execution_count": 2,
   "id": "8b2211ad",
   "metadata": {},
   "outputs": [],
   "source": [
    "import time\n",
    "import sagemaker, boto3, json\n",
    "from sagemaker.session import Session\n",
    "from sagemaker.model import Model\n",
    "from sagemaker import image_uris, model_uris, script_uris, hyperparameters\n",
    "from sagemaker.predictor import Predictor\n",
    "from sagemaker.utils import name_from_base\n",
    "from typing import Any, Dict, List, Optional\n",
    "from langchain.embeddings import SagemakerEndpointEmbeddings\n",
    "from langchain.llms.sagemaker_endpoint import ContentHandlerBase\n",
    "\n",
    "sagemaker_session = Session()\n",
    "aws_role = sagemaker_session.get_caller_identity_arn()\n",
    "aws_region = boto3.Session().region_name\n",
    "sess = sagemaker.Session()\n",
    "model_version = \"*\""
   ]
  },
  {
   "cell_type": "code",
   "execution_count": 3,
   "id": "25936941",
   "metadata": {},
   "outputs": [],
   "source": [
    "import boto3, json\n",
    "from sagemaker.session import Session"
   ]
  },
  {
   "cell_type": "code",
   "execution_count": 4,
   "id": "b372ea24",
   "metadata": {},
   "outputs": [],
   "source": [
    "sagemaker_session = Session()\n",
    "aws_role = sagemaker_session.get_caller_identity_arn()\n",
    "aws_region = boto3.Session().region_name"
   ]
  },
  {
   "cell_type": "code",
   "execution_count": 5,
   "id": "93e0b150",
   "metadata": {},
   "outputs": [],
   "source": [
    "def query_endpoint_with_json_payload(encoded_json, endpoint_name, content_type=\"application/json\"):\n",
    "    client = boto3.client(\"runtime.sagemaker\")\n",
    "    response = client.invoke_endpoint(\n",
    "        EndpointName=endpoint_name, ContentType=content_type, Body=encoded_json\n",
    "    )\n",
    "    return response\n",
    "\n",
    "\n",
    "def parse_response_model_flan_t5(query_response):\n",
    "    model_predictions = json.loads(query_response[\"Body\"].read())\n",
    "    generated_text = model_predictions[\"generated_texts\"]\n",
    "    return generated_text\n",
    "\n",
    "\n",
    "def parse_response_multiple_texts_bloomz(query_response):\n",
    "    generated_text = []\n",
    "    model_predictions = json.loads(query_response[\"Body\"].read())\n",
    "    for x in model_predictions[0]:\n",
    "        generated_text.append(x[\"generated_text\"])\n",
    "    return generated_text"
   ]
  },
  {
   "cell_type": "code",
   "execution_count": 6,
   "id": "d67f1129",
   "metadata": {},
   "outputs": [],
   "source": [
    "endpoint_name = 'jumpstart-dft-hf-llm-falcon-7b-instruct-bf16'"
   ]
  },
  {
   "cell_type": "code",
   "execution_count": 7,
   "id": "563f2eb6",
   "metadata": {},
   "outputs": [],
   "source": [
    "from langchain import SagemakerEndpoint"
   ]
  },
  {
   "cell_type": "code",
   "execution_count": 8,
   "id": "b3f101b5",
   "metadata": {},
   "outputs": [],
   "source": [
    "from langchain.llms.sagemaker_endpoint import LLMContentHandler"
   ]
  },
  {
   "cell_type": "code",
   "execution_count": 9,
   "id": "0e8a1104",
   "metadata": {},
   "outputs": [],
   "source": [
    "class ContentHandler(LLMContentHandler):\n",
    "    content_type = \"application/json\"\n",
    "    accepts = \"application/json\"\n",
    "\n",
    "    def transform_input(self, prompt: str, model_kwargs: dict) -> bytes:\n",
    "        input_str = json.dumps({\"inputs\": prompt, **model_kwargs})\n",
    "        return input_str.encode('utf-8')\n",
    "      \n",
    "    def transform_output(self, output: bytes) -> str:\n",
    "        response_json = json.loads(output.read().decode(\"utf-8\"))\n",
    "        return response_json[0][\"generated_text\"]\n",
    "\n",
    "content_handler = ContentHandler()"
   ]
  },
  {
   "cell_type": "code",
   "execution_count": 10,
   "id": "331c1922",
   "metadata": {},
   "outputs": [],
   "source": [
    "parameters = {\n",
    "    \"max_length\": 200,\n",
    "    \"num_return_sequences\": 1,\n",
    "    \"top_k\": 250,\n",
    "    \"top_p\": 0.95,\n",
    "    \"do_sample\": False,\n",
    "    \"temperature\": 1,\n",
    "}"
   ]
  },
  {
   "cell_type": "code",
   "execution_count": 11,
   "id": "47abaed8",
   "metadata": {},
   "outputs": [],
   "source": [
    "llm = SagemakerEndpoint(\n",
    "    endpoint_name = endpoint_name, \n",
    "    region_name = aws_region, \n",
    "    model_kwargs = parameters,\n",
    "    content_handler = content_handler\n",
    ")"
   ]
  },
  {
   "cell_type": "markdown",
   "id": "c5905311",
   "metadata": {},
   "source": [
    "## PDF Summary"
   ]
  },
  {
   "cell_type": "code",
   "execution_count": 12,
   "id": "e9552127",
   "metadata": {},
   "outputs": [],
   "source": [
    "!pip install PyPDF2 --quiet"
   ]
  },
  {
   "cell_type": "code",
   "execution_count": 13,
   "id": "321c8326",
   "metadata": {},
   "outputs": [],
   "source": [
    "import PyPDF2\n",
    "from io import BytesIO"
   ]
  },
  {
   "cell_type": "code",
   "execution_count": 14,
   "id": "1398dbcb",
   "metadata": {},
   "outputs": [],
   "source": [
    "sess = sagemaker.Session()\n",
    "s3_bucket = sess.default_bucket()\n",
    "s3_prefix = 'docs'"
   ]
  },
  {
   "cell_type": "code",
   "execution_count": 23,
   "id": "e5c20b73",
   "metadata": {},
   "outputs": [],
   "source": [
    "s3_file_name = 'sample-blog.pdf'\n",
    "#s3_file_name = '2016-3series.pdf'\n",
    "#s3_file_name = 'gen-ai-aws.pdf'"
   ]
  },
  {
   "cell_type": "code",
   "execution_count": 24,
   "id": "713a6f2d",
   "metadata": {},
   "outputs": [],
   "source": [
    "s3r = boto3.resource(\"s3\")\n",
    "doc = s3r.Object(s3_bucket, s3_prefix+'/'+s3_file_name)\n",
    "#doc = s3r.Object(, '/docs/sample.pdf')\n",
    "        \n",
    "contents = doc.get()['Body'].read()\n",
    "reader = PyPDF2.PdfReader(BytesIO(contents))\n",
    "        \n",
    "raw_text = []\n",
    "for page in reader.pages:\n",
    "    raw_text.append(page.extract_text())\n",
    "contents = '\\n'.join(raw_text)  "
   ]
  },
  {
   "cell_type": "code",
   "execution_count": 25,
   "id": "25382509",
   "metadata": {},
   "outputs": [
    {
     "name": "stdout",
     "output_type": "stream",
     "text": [
      "new_contents:  Exam ple blog entry   Moving Day and settling in   Due to wanting to live closer to the city centre, I moved from my  house in second year to a flat in the city centre for third  year.  Mov ing back to Liverpool was great;  I felt like I was coming  home,  much to my parents ’ displeasure!    For the first week back , I worked a few days for the university in  my job as an A mbassador, showing potential new students  round while becoming reacqua inted with the campus myself.   When lectures restarted , it seemed like summer had  disappeared in a matter of minutes!   However , I was eager to get learning again and looked forward  to seminars and lectures on the books and topics I had been researching over the su mmer.   Students from older years had warned me about third year being pretty scary, so I had prepared well  and really enjoyed the first lectures from my new modules. Reconnecting with my societies was  doubly fun, being the President of Combined Honours for the year meant lots of summer  preparation for our first social – which was a big hit! Furthermore, as a member of the dance society  “bodysoc”, I got back into my dance classe s and performance preparation.   \n"
     ]
    }
   ],
   "source": [
    "new_contents = str(contents[:8000]).replace(\"\\n\",\" \") \n",
    "print('new_contents: ', new_contents)"
   ]
  },
  {
   "cell_type": "code",
   "execution_count": 26,
   "id": "284e6f45",
   "metadata": {},
   "outputs": [
    {
     "name": "stdout",
     "output_type": "stream",
     "text": [
      "['Exam ple blog entry   Moving Day and settling in   Due to wanting to live closer to the city centre, I moved from my  house in second year to a flat in the city centre for third  year.  Mov ing back to Liverpool was great;  I felt like I was coming  home,  much to my parents ’ displeasure!    For the first week back , I worked a few days for the university in  my job as an A mbassador, showing potential new students  round while becoming reacqua inted with the campus myself.   When lectures restarted , it seemed like summer had  disappeared in a matter of minutes!   However , I was eager to get learning again and looked forward  to seminars and lectures on the books and topics I had been researching over the su mmer.   Students from older years had warned me about third year being pretty scary, so I had prepared well  and really enjoyed the first lectures from my new modules. Reconnecting with my societies was  doubly fun, being the President of Combined Honours for the year meant lots of summer  preparation for our first social – which was a big hit! Furthermore, as a member of the dance society  “bodysoc”, I got back into my dance classe s and performance preparation.']\n"
     ]
    }
   ],
   "source": [
    "from langchain.text_splitter import CharacterTextSplitter\n",
    "text_splitter = CharacterTextSplitter()\n",
    "texts = text_splitter.split_text(new_contents) \n",
    "print(texts)"
   ]
  },
  {
   "cell_type": "code",
   "execution_count": 27,
   "id": "53bd41de",
   "metadata": {},
   "outputs": [
    {
     "name": "stdout",
     "output_type": "stream",
     "text": [
      "[Document(page_content='Exam ple blog entry   Moving Day and settling in   Due to wanting to live closer to the city centre, I moved from my  house in second year to a flat in the city centre for third  year.  Mov ing back to Liverpool was great;  I felt like I was coming  home,  much to my parents ’ displeasure!    For the first week back , I worked a few days for the university in  my job as an A mbassador, showing potential new students  round while becoming reacqua inted with the campus myself.   When lectures restarted , it seemed like summer had  disappeared in a matter of minutes!   However , I was eager to get learning again and looked forward  to seminars and lectures on the books and topics I had been researching over the su mmer.   Students from older years had warned me about third year being pretty scary, so I had prepared well  and really enjoyed the first lectures from my new modules. Reconnecting with my societies was  doubly fun, being the President of Combined Honours for the year meant lots of summer  preparation for our first social – which was a big hit! Furthermore, as a member of the dance society  “bodysoc”, I got back into my dance classe s and performance preparation.', metadata={})]\n"
     ]
    }
   ],
   "source": [
    "from langchain.docstore.document import Document\n",
    "docs = [Document(page_content=t) for t in texts[:10]]\n",
    "print(docs)"
   ]
  },
  {
   "cell_type": "code",
   "execution_count": 28,
   "id": "ec4af9d2",
   "metadata": {},
   "outputs": [
    {
     "data": {
      "text/plain": [
       "' The writer moved from their parental home to a flat in the city centre for their third year of university'"
      ]
     },
     "execution_count": 28,
     "metadata": {},
     "output_type": "execute_result"
    }
   ],
   "source": [
    "from langchain.chains.summarize import load_summarize_chain\n",
    "chain = load_summarize_chain(llm, chain_type=\"stuff\")\n",
    "chain.run(docs)"
   ]
  },
  {
   "cell_type": "code",
   "execution_count": 37,
   "id": "5bb0b987",
   "metadata": {},
   "outputs": [],
   "source": [
    "from langchain.prompts import PromptTemplate\n",
    "\n",
    "prompt_template = \"\"\"Write a concise summary of the following:\n",
    "\n",
    "\n",
    "{text}\n",
    "\n",
    "\n",
    "CONCISE SUMMARY \"\"\"\n"
   ]
  },
  {
   "cell_type": "code",
   "execution_count": 38,
   "id": "b3ba0d68",
   "metadata": {},
   "outputs": [
    {
     "data": {
      "text/plain": [
       "': The author moved from their parental home to a flat in the city centre for their third year,'"
      ]
     },
     "execution_count": 38,
     "metadata": {},
     "output_type": "execute_result"
    }
   ],
   "source": [
    "PROMPT = PromptTemplate(template=prompt_template, input_variables=[\"text\"])\n",
    "chain = load_summarize_chain(llm, chain_type=\"stuff\", prompt=PROMPT)\n",
    "chain.run(docs)"
   ]
  },
  {
   "cell_type": "code",
   "execution_count": null,
   "id": "f3884528",
   "metadata": {},
   "outputs": [],
   "source": []
  }
 ],
 "metadata": {
  "kernelspec": {
   "display_name": "conda_python3",
   "language": "python",
   "name": "conda_python3"
  },
  "language_info": {
   "codemirror_mode": {
    "name": "ipython",
    "version": 3
   },
   "file_extension": ".py",
   "mimetype": "text/x-python",
   "name": "python",
   "nbconvert_exporter": "python",
   "pygments_lexer": "ipython3",
   "version": "3.10.8"
  }
 },
 "nbformat": 4,
 "nbformat_minor": 5
}
